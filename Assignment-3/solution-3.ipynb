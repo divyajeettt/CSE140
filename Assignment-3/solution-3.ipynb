{
  "cells": [
    {
      "cell_type": "code",
      "execution_count": 184,
      "metadata": {
        "id": "_kRT_NEXPItB"
      },
      "outputs": [],
      "source": [
        "from sklearn.model_selection import train_test_split\n",
        "from sklearn.linear_model import LogisticRegression\n",
        "import matplotlib.pyplot as plt\n",
        "from sklearn import metrics\n",
        "import pandas as pd\n",
        "import numpy as np"
      ]
    },
    {
      "cell_type": "code",
      "execution_count": 185,
      "metadata": {
        "colab": {
          "base_uri": "https://localhost:8080/",
          "height": 206
        },
        "id": "3neu31BIPd4v",
        "outputId": "33ed1fe9-3e78-4178-f8ab-4c2a18d25c1b"
      },
      "outputs": [
        {
          "data": {
            "text/html": [
              "<div>\n",
              "<style scoped>\n",
              "    .dataframe tbody tr th:only-of-type {\n",
              "        vertical-align: middle;\n",
              "    }\n",
              "\n",
              "    .dataframe tbody tr th {\n",
              "        vertical-align: top;\n",
              "    }\n",
              "\n",
              "    .dataframe thead th {\n",
              "        text-align: right;\n",
              "    }\n",
              "</style>\n",
              "<table border=\"1\" class=\"dataframe\">\n",
              "  <thead>\n",
              "    <tr style=\"text-align: right;\">\n",
              "      <th></th>\n",
              "      <th>Pregnancies</th>\n",
              "      <th>Glucose</th>\n",
              "      <th>BloodPressure</th>\n",
              "      <th>SkinThickness</th>\n",
              "      <th>Insulin</th>\n",
              "      <th>BMI</th>\n",
              "      <th>DiabetesPedigreeFunction</th>\n",
              "      <th>Age</th>\n",
              "      <th>Outcome</th>\n",
              "    </tr>\n",
              "  </thead>\n",
              "  <tbody>\n",
              "    <tr>\n",
              "      <th>0</th>\n",
              "      <td>6</td>\n",
              "      <td>148</td>\n",
              "      <td>72</td>\n",
              "      <td>35</td>\n",
              "      <td>0</td>\n",
              "      <td>33.6</td>\n",
              "      <td>0.627</td>\n",
              "      <td>50</td>\n",
              "      <td>1</td>\n",
              "    </tr>\n",
              "    <tr>\n",
              "      <th>1</th>\n",
              "      <td>1</td>\n",
              "      <td>85</td>\n",
              "      <td>66</td>\n",
              "      <td>29</td>\n",
              "      <td>0</td>\n",
              "      <td>26.6</td>\n",
              "      <td>0.351</td>\n",
              "      <td>31</td>\n",
              "      <td>0</td>\n",
              "    </tr>\n",
              "    <tr>\n",
              "      <th>2</th>\n",
              "      <td>8</td>\n",
              "      <td>183</td>\n",
              "      <td>64</td>\n",
              "      <td>0</td>\n",
              "      <td>0</td>\n",
              "      <td>23.3</td>\n",
              "      <td>0.672</td>\n",
              "      <td>32</td>\n",
              "      <td>1</td>\n",
              "    </tr>\n",
              "    <tr>\n",
              "      <th>3</th>\n",
              "      <td>1</td>\n",
              "      <td>89</td>\n",
              "      <td>66</td>\n",
              "      <td>23</td>\n",
              "      <td>94</td>\n",
              "      <td>28.1</td>\n",
              "      <td>0.167</td>\n",
              "      <td>21</td>\n",
              "      <td>0</td>\n",
              "    </tr>\n",
              "    <tr>\n",
              "      <th>4</th>\n",
              "      <td>0</td>\n",
              "      <td>137</td>\n",
              "      <td>40</td>\n",
              "      <td>35</td>\n",
              "      <td>168</td>\n",
              "      <td>43.1</td>\n",
              "      <td>2.288</td>\n",
              "      <td>33</td>\n",
              "      <td>1</td>\n",
              "    </tr>\n",
              "  </tbody>\n",
              "</table>\n",
              "</div>"
            ],
            "text/plain": [
              "   Pregnancies  Glucose  BloodPressure  SkinThickness  Insulin   BMI  \\\n",
              "0            6      148             72             35        0  33.6   \n",
              "1            1       85             66             29        0  26.6   \n",
              "2            8      183             64              0        0  23.3   \n",
              "3            1       89             66             23       94  28.1   \n",
              "4            0      137             40             35      168  43.1   \n",
              "\n",
              "   DiabetesPedigreeFunction  Age  Outcome  \n",
              "0                     0.627   50        1  \n",
              "1                     0.351   31        0  \n",
              "2                     0.672   32        1  \n",
              "3                     0.167   21        0  \n",
              "4                     2.288   33        1  "
            ]
          },
          "execution_count": 185,
          "metadata": {},
          "output_type": "execute_result"
        }
      ],
      "source": [
        "dataframe = pd.read_csv(\"Q3_diabetes_dataset.csv\")\n",
        "dataframe.head()"
      ]
    },
    {
      "cell_type": "markdown",
      "metadata": {},
      "source": [
        "### Preprocessing Step\n",
        "Since we have to perform a Logisitc Regression, we normalize all the numerical data given to us to the range `(0, 1)`. This way, we attain the weights that should be assigned to each column (how deterministic each column is to categorize Diabetes)."
      ]
    },
    {
      "cell_type": "code",
      "execution_count": 186,
      "metadata": {},
      "outputs": [
        {
          "data": {
            "text/html": [
              "<div>\n",
              "<style scoped>\n",
              "    .dataframe tbody tr th:only-of-type {\n",
              "        vertical-align: middle;\n",
              "    }\n",
              "\n",
              "    .dataframe tbody tr th {\n",
              "        vertical-align: top;\n",
              "    }\n",
              "\n",
              "    .dataframe thead th {\n",
              "        text-align: right;\n",
              "    }\n",
              "</style>\n",
              "<table border=\"1\" class=\"dataframe\">\n",
              "  <thead>\n",
              "    <tr style=\"text-align: right;\">\n",
              "      <th></th>\n",
              "      <th>Pregnancies</th>\n",
              "      <th>Glucose</th>\n",
              "      <th>BloodPressure</th>\n",
              "      <th>SkinThickness</th>\n",
              "      <th>Insulin</th>\n",
              "      <th>BMI</th>\n",
              "      <th>DiabetesPedigreeFunction</th>\n",
              "      <th>Age</th>\n",
              "      <th>Outcome</th>\n",
              "    </tr>\n",
              "  </thead>\n",
              "  <tbody>\n",
              "    <tr>\n",
              "      <th>0</th>\n",
              "      <td>0.352941</td>\n",
              "      <td>0.743719</td>\n",
              "      <td>0.590164</td>\n",
              "      <td>0.353535</td>\n",
              "      <td>0.000000</td>\n",
              "      <td>0.500745</td>\n",
              "      <td>0.234415</td>\n",
              "      <td>0.483333</td>\n",
              "      <td>1</td>\n",
              "    </tr>\n",
              "    <tr>\n",
              "      <th>1</th>\n",
              "      <td>0.058824</td>\n",
              "      <td>0.427136</td>\n",
              "      <td>0.540984</td>\n",
              "      <td>0.292929</td>\n",
              "      <td>0.000000</td>\n",
              "      <td>0.396423</td>\n",
              "      <td>0.116567</td>\n",
              "      <td>0.166667</td>\n",
              "      <td>0</td>\n",
              "    </tr>\n",
              "    <tr>\n",
              "      <th>2</th>\n",
              "      <td>0.470588</td>\n",
              "      <td>0.919598</td>\n",
              "      <td>0.524590</td>\n",
              "      <td>0.000000</td>\n",
              "      <td>0.000000</td>\n",
              "      <td>0.347243</td>\n",
              "      <td>0.253629</td>\n",
              "      <td>0.183333</td>\n",
              "      <td>1</td>\n",
              "    </tr>\n",
              "    <tr>\n",
              "      <th>3</th>\n",
              "      <td>0.058824</td>\n",
              "      <td>0.447236</td>\n",
              "      <td>0.540984</td>\n",
              "      <td>0.232323</td>\n",
              "      <td>0.111111</td>\n",
              "      <td>0.418778</td>\n",
              "      <td>0.038002</td>\n",
              "      <td>0.000000</td>\n",
              "      <td>0</td>\n",
              "    </tr>\n",
              "    <tr>\n",
              "      <th>4</th>\n",
              "      <td>0.000000</td>\n",
              "      <td>0.688442</td>\n",
              "      <td>0.327869</td>\n",
              "      <td>0.353535</td>\n",
              "      <td>0.198582</td>\n",
              "      <td>0.642325</td>\n",
              "      <td>0.943638</td>\n",
              "      <td>0.200000</td>\n",
              "      <td>1</td>\n",
              "    </tr>\n",
              "  </tbody>\n",
              "</table>\n",
              "</div>"
            ],
            "text/plain": [
              "   Pregnancies   Glucose  BloodPressure  SkinThickness   Insulin       BMI  \\\n",
              "0     0.352941  0.743719       0.590164       0.353535  0.000000  0.500745   \n",
              "1     0.058824  0.427136       0.540984       0.292929  0.000000  0.396423   \n",
              "2     0.470588  0.919598       0.524590       0.000000  0.000000  0.347243   \n",
              "3     0.058824  0.447236       0.540984       0.232323  0.111111  0.418778   \n",
              "4     0.000000  0.688442       0.327869       0.353535  0.198582  0.642325   \n",
              "\n",
              "   DiabetesPedigreeFunction       Age  Outcome  \n",
              "0                  0.234415  0.483333        1  \n",
              "1                  0.116567  0.166667        0  \n",
              "2                  0.253629  0.183333        1  \n",
              "3                  0.038002  0.000000        0  \n",
              "4                  0.943638  0.200000        1  "
            ]
          },
          "execution_count": 186,
          "metadata": {},
          "output_type": "execute_result"
        }
      ],
      "source": [
        "outcome = dataframe[\"Outcome\"]\n",
        "dataframe.drop(\"Outcome\", axis=1, inplace=True)\n",
        "\n",
        "dataframe = (dataframe - dataframe.min()) / (dataframe.max() - dataframe.min())\n",
        "dataframe[\"Outcome\"] = outcome\n",
        "dataframe.head()"
      ]
    },
    {
      "cell_type": "markdown",
      "metadata": {},
      "source": [
        "### Data analysis and Plotting"
      ]
    },
    {
      "cell_type": "code",
      "execution_count": 187,
      "metadata": {
        "colab": {
          "base_uri": "https://localhost:8080/",
          "height": 279
        },
        "id": "1ASnNlLMRlyW",
        "outputId": "18dead53-6cbd-4656-d428-6c267a7dcbf8"
      },
      "outputs": [
        {
          "data": {
            "image/png": "[encoded data removed]",
            "text/plain": [
              "<Figure size 432x288 with 1 Axes>"
            ]
          },
          "metadata": {
            "needs_background": "light"
          },
          "output_type": "display_data"
        }
      ],
      "source": [
        "o0 = list(dataframe[dataframe[\"Outcome\"] == 0][\"Pregnancies\"])\n",
        "o1 = list(dataframe[dataframe[\"Outcome\"] == 1][\"Pregnancies\"])\n",
        "\n",
        "plt.scatter(o0, [o0.count(i) for i in o0], label=\"Non Diabetic\", linewidths=0.1)\n",
        "plt.scatter(o1, [o1.count(i) for i in o1], label=\"Diabetic\", linewidths=0.1)\n",
        "\n",
        "plt.xticks(np.arange(0, 1.1, 0.1))\n",
        "\n",
        "plt.xlabel(\"Number of Pregnancies\")\n",
        "plt.ylabel(\"Number of People\")\n",
        "plt.grid(True)\n",
        "plt.legend()\n",
        "plt.show()"
      ]
    },
    {
      "cell_type": "code",
      "execution_count": 188,
      "metadata": {
        "colab": {
          "base_uri": "https://localhost:8080/",
          "height": 279
        },
        "id": "Q-Naoty02Gf8",
        "outputId": "801f2c28-4e76-4084-925b-bf2957a6814b"
      },
      "outputs": [
        {
          "data": {
            "image/png": "[encoded data removed]",
            "text/plain": [
              "<Figure size 432x288 with 1 Axes>"
            ]
          },
          "metadata": {
            "needs_background": "light"
          },
          "output_type": "display_data"
        }
      ],
      "source": [
        "o0 = list(dataframe[dataframe[\"Outcome\"] == 0][\"BMI\"])\n",
        "o1 = list(dataframe[dataframe[\"Outcome\"] == 1][\"BMI\"])\n",
        "\n",
        "plt.scatter(o0, [o0.count(i) for i in o0], label=\"Non Diabetic\", linewidths=0.1)\n",
        "plt.scatter(o1, [o1.count(i) for i in o1], label=\"Diabetic\", linewidths=0.1)\n",
        "\n",
        "plt.xticks(np.arange(0, 1.1, 0.1))\n",
        "plt.xlabel(\"BMI\")\n",
        "plt.ylabel(\"Number of People\")\n",
        "plt.grid(True)\n",
        "plt.legend()\n",
        "plt.show()"
      ]
    },
    {
      "cell_type": "code",
      "execution_count": 189,
      "metadata": {
        "colab": {
          "base_uri": "https://localhost:8080/",
          "height": 279
        },
        "id": "kmJuLqaO7aVS",
        "outputId": "2325d087-1c53-4104-c989-4c3a1118229c"
      },
      "outputs": [
        {
          "data": {
            "image/png": "[encoded data removed]",
            "text/plain": [
              "<Figure size 432x288 with 1 Axes>"
            ]
          },
          "metadata": {
            "needs_background": "light"
          },
          "output_type": "display_data"
        }
      ],
      "source": [
        "o0 = list(dataframe[dataframe[\"Outcome\"] == 0][\"BloodPressure\"])\n",
        "o1 = list(dataframe[dataframe[\"Outcome\"] == 1][\"BloodPressure\"])\n",
        "\n",
        "plt.scatter(o0, [o0.count(i) for i in o0], label=\"Non Diabetic\", linewidths=0.1)\n",
        "plt.scatter(o1, [o1.count(i) for i in o1], label=\"Diabetic\", linewidths=0.1)\n",
        "\n",
        "plt.xticks(np.arange(0, 1.1, 0.1))\n",
        "plt.xlabel(\"Blood Pressure\")\n",
        "plt.ylabel(\"Number of People\")\n",
        "plt.grid(True)\n",
        "plt.legend()\n",
        "plt.show()"
      ]
    },
    {
      "cell_type": "code",
      "execution_count": 190,
      "metadata": {
        "colab": {
          "base_uri": "https://localhost:8080/",
          "height": 279
        },
        "id": "SUUstZwE-ORi",
        "outputId": "94a34c06-db92-4118-eac4-78be40a38956"
      },
      "outputs": [
        {
          "data": {
            "image/png": "[encoded data removed]",
            "text/plain": [
              "<Figure size 432x288 with 1 Axes>"
            ]
          },
          "metadata": {
            "needs_background": "light"
          },
          "output_type": "display_data"
        }
      ],
      "source": [
        "o0 = list(dataframe[dataframe[\"Outcome\"] == 0][\"SkinThickness\"])\n",
        "o1 = list(dataframe[dataframe[\"Outcome\"] == 1][\"SkinThickness\"])\n",
        "\n",
        "plt.scatter(o0, [o0.count(i) for i in o0], label=\"Non Diabetic\", linewidths=0.1)\n",
        "plt.scatter(o1, [o1.count(i) for i in o1], label=\"Diabetic\", linewidths=0.1)\n",
        "\n",
        "plt.xlabel(\"Skin Thickness\")\n",
        "plt.ylabel(\"Number of People\")\n",
        "plt.xticks(np.arange(0, 1.1, 0.1))\n",
        "plt.grid(True)\n",
        "plt.legend()\n",
        "plt.show()"
      ]
    },
    {
      "cell_type": "code",
      "execution_count": 191,
      "metadata": {
        "colab": {
          "base_uri": "https://localhost:8080/",
          "height": 279
        },
        "id": "6mujI65a_q-X",
        "outputId": "32265261-bbbf-40b7-f229-ed71c2b10013"
      },
      "outputs": [
        {
          "data": {
            "image/png": "[encoded data removed]",
            "text/plain": [
              "<Figure size 432x288 with 1 Axes>"
            ]
          },
          "metadata": {
            "needs_background": "light"
          },
          "output_type": "display_data"
        }
      ],
      "source": [
        "o0 = list(dataframe[dataframe[\"Outcome\"] == 0][\"Insulin\"])\n",
        "o1 = list(dataframe[dataframe[\"Outcome\"] == 1][\"Insulin\"])\n",
        "\n",
        "plt.scatter(o0, [o0.count(i) for i in o0], label=\"Non Diabetic\", linewidths=0.1)\n",
        "plt.scatter(o1, [o1.count(i) for i in o1], label=\"Diabetic\", linewidths=0.1)\n",
        "\n",
        "plt.xlabel(\"Insulin Level\")\n",
        "plt.ylabel(\"Number of People\")\n",
        "np.arange(0, 1.1, 0.1)\n",
        "plt.grid(True)\n",
        "plt.legend()\n",
        "plt.show()"
      ]
    },
    {
      "cell_type": "code",
      "execution_count": 192,
      "metadata": {
        "colab": {
          "base_uri": "https://localhost:8080/",
          "height": 279
        },
        "id": "67qPb8TGAd8n",
        "outputId": "d5ea92e0-054f-49f1-a1f1-b907999c928c"
      },
      "outputs": [
        {
          "data": {
            "image/png": "[encoded data removed]",
            "text/plain": [
              "<Figure size 432x288 with 1 Axes>"
            ]
          },
          "metadata": {
            "needs_background": "light"
          },
          "output_type": "display_data"
        }
      ],
      "source": [
        "o0 = list(dataframe[dataframe[\"Outcome\"] == 0][\"Glucose\"])\n",
        "o1 = list(dataframe[dataframe[\"Outcome\"] == 1][\"Glucose\"])\n",
        "\n",
        "plt.scatter(o0, [o0.count(i) for i in o0], label=\"Non Diabetic\", linewidths=0.1)\n",
        "plt.scatter(o1, [o1.count(i) for i in o1], label=\"Diabetic\", linewidths=0.1)\n",
        "\n",
        "plt.xlabel(\"Glucose Level\")\n",
        "plt.ylabel(\"Number of People\")\n",
        "plt.grid(True)\n",
        "plt.legend()\n",
        "plt.show()"
      ]
    },
    {
      "cell_type": "code",
      "execution_count": 193,
      "metadata": {
        "colab": {
          "base_uri": "https://localhost:8080/",
          "height": 279
        },
        "id": "mj126wTxBfT6",
        "outputId": "8d7cbab0-95fb-495b-9acf-903aea579504"
      },
      "outputs": [
        {
          "data": {
            "image/png": "[encoded data removed]",
            "text/plain": [
              "<Figure size 432x288 with 1 Axes>"
            ]
          },
          "metadata": {
            "needs_background": "light"
          },
          "output_type": "display_data"
        }
      ],
      "source": [
        "o0 = list(dataframe[dataframe[\"Outcome\"] == 0][\"Age\"])\n",
        "o1 = list(dataframe[dataframe[\"Outcome\"] == 1][\"Age\"])\n",
        "\n",
        "plt.scatter(o0, [o0.count(i) for i in o0], label=\"Non Diabetic\", linewidths=0.1)\n",
        "plt.scatter(o1, [o1.count(i) for i in o1], label=\"Diabetic\", linewidths=0.1)\n",
        "\n",
        "plt.xlabel(\"Age\")\n",
        "plt.ylabel(\"Number of People\")\n",
        "plt.grid(True)\n",
        "plt.legend()\n",
        "plt.show()"
      ]
    },
    {
      "cell_type": "code",
      "execution_count": 194,
      "metadata": {
        "colab": {
          "base_uri": "https://localhost:8080/",
          "height": 283
        },
        "id": "0V1JEf1gCOH9",
        "outputId": "31d6e6eb-d2b3-4a0b-8cb4-a2521cbd5d8e"
      },
      "outputs": [
        {
          "data": {
            "image/png": "[encoded data removed]",
            "text/plain": [
              "<Figure size 432x288 with 1 Axes>"
            ]
          },
          "metadata": {
            "needs_background": "light"
          },
          "output_type": "display_data"
        }
      ],
      "source": [
        "o0 = list(dataframe[dataframe[\"Outcome\"] == 0][\"DiabetesPedigreeFunction\"])\n",
        "o1 = list(dataframe[dataframe[\"Outcome\"] == 1][\"DiabetesPedigreeFunction\"])\n",
        "\n",
        "plt.scatter(o0, [o0.count(i) for i in o0], label=\"Non Diabetic\", linewidths=0.1)\n",
        "plt.scatter(o1, [o1.count(i) for i in o1], label=\"Diabetic\", linewidths=0.1)\n",
        "\n",
        "plt.xlabel(\"Diabetes Pedigree Function Level\")\n",
        "plt.ylabel(\"Number of People\")\n",
        "plt.xticks(np.arange(0, 1.1, 0.1))\n",
        "plt.yticks(range(5))\n",
        "plt.grid(True)\n",
        "plt.legend()\n",
        "plt.show()"
      ]
    },
    {
      "cell_type": "markdown",
      "metadata": {},
      "source": [
        "### Build the Model"
      ]
    },
    {
      "cell_type": "code",
      "execution_count": 195,
      "metadata": {
        "colab": {
          "base_uri": "https://localhost:8080/"
        },
        "id": "adF5kNMWQLgG",
        "outputId": "05c1beff-edb2-464c-df5c-985baa32de5f"
      },
      "outputs": [],
      "source": [
        "# Prepare datasets\n",
        "# outcome data is the target to be predicted\n",
        "train, test = train_test_split(dataframe, test_size=0.30)\n",
        "X_train, Y_train = train.iloc[:, :-1], train[\"Outcome\"]\n",
        "X_test, Y_test = test.iloc[:, :-1], test[\"Outcome\"]\n",
        "\n",
        "# Build and train the model\n",
        "model = LogisticRegression().fit(X_train, Y_train)"
      ]
    },
    {
      "cell_type": "markdown",
      "metadata": {},
      "source": [
        "### Checking the Predictions and Accuracy"
      ]
    },
    {
      "cell_type": "code",
      "execution_count": 196,
      "metadata": {
        "colab": {
          "base_uri": "https://localhost:8080/"
        },
        "id": "1MH4-v_OQxsk",
        "outputId": "c7108467-e9e4-4f10-ca72-f42f6d1956f6"
      },
      "outputs": [
        {
          "data": {
            "text/plain": [
              "array([0, 0, 1, 0, 0, 0, 0, 1, 1, 0, 0, 1, 0, 0, 0, 0, 0, 0, 0, 0, 1, 0,\n",
              "       1, 1, 0, 0, 0, 0, 0, 1, 0, 1, 1, 1, 0, 0, 0, 1, 0, 0, 0, 1, 0, 0,\n",
              "       0, 1, 1, 0, 0, 0, 0, 1, 0, 0, 0, 1, 0, 0, 1, 0, 1, 0, 0, 1, 0, 0,\n",
              "       0, 1, 1, 0, 0, 1, 0, 0, 0, 0, 0, 0, 0, 0, 1, 0, 0, 0, 1, 1, 0, 0,\n",
              "       0, 0, 1, 0, 0, 0, 0, 0, 1, 0, 0, 0, 0, 0, 0, 0, 0, 0, 0, 0, 0, 1,\n",
              "       0, 0, 0, 0, 1, 0, 1, 1, 0, 0, 0, 0, 0, 1, 0, 0, 1, 1, 0, 1, 0, 0,\n",
              "       0, 0, 0, 0, 0, 0, 1, 0, 0, 1, 0, 0, 0, 1, 0, 1, 0, 0, 0, 0, 0, 0,\n",
              "       1, 0, 1, 1, 0, 0, 0, 1, 0, 0, 0, 1, 0, 0, 0, 1, 0, 0, 0, 0, 0, 0,\n",
              "       1, 0, 0, 1, 0, 1, 0, 0, 0, 0, 0, 0, 0, 1, 0, 0, 0, 0, 1, 0, 1, 0,\n",
              "       0, 0, 0, 1, 0, 0, 1, 0, 1, 0, 0, 0, 0, 0, 0, 1, 0, 1, 0, 0, 0, 0,\n",
              "       1, 0, 1, 0, 0, 0, 0, 0, 0, 0, 0], dtype=int64)"
            ]
          },
          "execution_count": 196,
          "metadata": {},
          "output_type": "execute_result"
        }
      ],
      "source": [
        "Y_predicted = model.predict(X_test)\n",
        "Y_predicted"
      ]
    },
    {
      "cell_type": "code",
      "execution_count": 197,
      "metadata": {
        "colab": {
          "base_uri": "https://localhost:8080/"
        },
        "id": "JLyzvgZcRDvk",
        "outputId": "a675d8fe-7459-4c0c-ac1f-676e4e073509"
      },
      "outputs": [
        {
          "data": {
            "text/plain": [
              "array([[0.90273351, 0.09726649],\n",
              "       [0.65014947, 0.34985053],\n",
              "       [0.45971679, 0.54028321],\n",
              "       [0.85830962, 0.14169038],\n",
              "       [0.89680649, 0.10319351],\n",
              "       [0.77577388, 0.22422612],\n",
              "       [0.79352719, 0.20647281],\n",
              "       [0.39703437, 0.60296563],\n",
              "       [0.42472595, 0.57527405],\n",
              "       [0.60941053, 0.39058947],\n",
              "       [0.87442237, 0.12557763],\n",
              "       [0.3014742 , 0.6985258 ],\n",
              "       [0.79491274, 0.20508726],\n",
              "       [0.79114089, 0.20885911],\n",
              "       [0.77345323, 0.22654677],\n",
              "       [0.52014716, 0.47985284],\n",
              "       [0.50666192, 0.49333808],\n",
              "       [0.5014075 , 0.4985925 ],\n",
              "       [0.71887941, 0.28112059],\n",
              "       [0.89797746, 0.10202254],\n",
              "       [0.38598868, 0.61401132],\n",
              "       [0.75007837, 0.24992163],\n",
              "       [0.15394943, 0.84605057],\n",
              "       [0.36187844, 0.63812156],\n",
              "       [0.84149119, 0.15850881],\n",
              "       [0.67455999, 0.32544001],\n",
              "       [0.83881769, 0.16118231],\n",
              "       [0.81900944, 0.18099056],\n",
              "       [0.73241368, 0.26758632],\n",
              "       [0.37092276, 0.62907724],\n",
              "       [0.69362818, 0.30637182],\n",
              "       [0.30650668, 0.69349332],\n",
              "       [0.46045811, 0.53954189],\n",
              "       [0.37156194, 0.62843806],\n",
              "       [0.64207184, 0.35792816],\n",
              "       [0.82439528, 0.17560472],\n",
              "       [0.64767676, 0.35232324],\n",
              "       [0.34332858, 0.65667142],\n",
              "       [0.53466478, 0.46533522],\n",
              "       [0.52282467, 0.47717533],\n",
              "       [0.75928039, 0.24071961],\n",
              "       [0.28974412, 0.71025588],\n",
              "       [0.66280219, 0.33719781],\n",
              "       [0.86729774, 0.13270226],\n",
              "       [0.93919315, 0.06080685],\n",
              "       [0.23364697, 0.76635303],\n",
              "       [0.25113963, 0.74886037],\n",
              "       [0.85473916, 0.14526084],\n",
              "       [0.90089754, 0.09910246],\n",
              "       [0.83897753, 0.16102247],\n",
              "       [0.89590951, 0.10409049],\n",
              "       [0.23439268, 0.76560732],\n",
              "       [0.83497748, 0.16502252],\n",
              "       [0.80575457, 0.19424543],\n",
              "       [0.77493806, 0.22506194],\n",
              "       [0.40474702, 0.59525298],\n",
              "       [0.80907037, 0.19092963],\n",
              "       [0.68289726, 0.31710274],\n",
              "       [0.45383313, 0.54616687],\n",
              "       [0.86735944, 0.13264056],\n",
              "       [0.31886053, 0.68113947],\n",
              "       [0.82468646, 0.17531354],\n",
              "       [0.82086727, 0.17913273],\n",
              "       [0.33013552, 0.66986448],\n",
              "       [0.85510784, 0.14489216],\n",
              "       [0.869537  , 0.130463  ],\n",
              "       [0.81639431, 0.18360569],\n",
              "       [0.41425374, 0.58574626],\n",
              "       [0.29269701, 0.70730299],\n",
              "       [0.8330654 , 0.1669346 ],\n",
              "       [0.85181003, 0.14818997],\n",
              "       [0.17516   , 0.82484   ],\n",
              "       [0.7584082 , 0.2415918 ],\n",
              "       [0.85859095, 0.14140905],\n",
              "       [0.6329571 , 0.3670429 ],\n",
              "       [0.67257021, 0.32742979],\n",
              "       [0.61455178, 0.38544822],\n",
              "       [0.55011705, 0.44988295],\n",
              "       [0.73592049, 0.26407951],\n",
              "       [0.7579168 , 0.2420832 ],\n",
              "       [0.06822054, 0.93177946],\n",
              "       [0.80225846, 0.19774154],\n",
              "       [0.6736255 , 0.3263745 ],\n",
              "       [0.91125729, 0.08874271],\n",
              "       [0.14506829, 0.85493171],\n",
              "       [0.41831649, 0.58168351],\n",
              "       [0.59488478, 0.40511522],\n",
              "       [0.73384366, 0.26615634],\n",
              "       [0.66739627, 0.33260373],\n",
              "       [0.85458187, 0.14541813],\n",
              "       [0.21249515, 0.78750485],\n",
              "       [0.83555986, 0.16444014],\n",
              "       [0.8726978 , 0.1273022 ],\n",
              "       [0.56793272, 0.43206728],\n",
              "       [0.67594546, 0.32405454],\n",
              "       [0.85508291, 0.14491709],\n",
              "       [0.4295197 , 0.5704803 ],\n",
              "       [0.84658143, 0.15341857],\n",
              "       [0.76092435, 0.23907565],\n",
              "       [0.77558517, 0.22441483],\n",
              "       [0.62020995, 0.37979005],\n",
              "       [0.7831743 , 0.2168257 ],\n",
              "       [0.566385  , 0.433615  ],\n",
              "       [0.73445481, 0.26554519],\n",
              "       [0.60011603, 0.39988397],\n",
              "       [0.90112449, 0.09887551],\n",
              "       [0.64678447, 0.35321553],\n",
              "       [0.68899528, 0.31100472],\n",
              "       [0.58262246, 0.41737754],\n",
              "       [0.45674587, 0.54325413],\n",
              "       [0.75427307, 0.24572693],\n",
              "       [0.74081298, 0.25918702],\n",
              "       [0.71243146, 0.28756854],\n",
              "       [0.78531258, 0.21468742],\n",
              "       [0.40808151, 0.59191849],\n",
              "       [0.93739059, 0.06260941],\n",
              "       [0.40709757, 0.59290243],\n",
              "       [0.14772933, 0.85227067],\n",
              "       [0.61404803, 0.38595197],\n",
              "       [0.92959254, 0.07040746],\n",
              "       [0.66296348, 0.33703652],\n",
              "       [0.77788229, 0.22211771],\n",
              "       [0.54509437, 0.45490563],\n",
              "       [0.44010737, 0.55989263],\n",
              "       [0.84717941, 0.15282059],\n",
              "       [0.50602012, 0.49397988],\n",
              "       [0.25386316, 0.74613684],\n",
              "       [0.43490125, 0.56509875],\n",
              "       [0.73110563, 0.26889437],\n",
              "       [0.42946776, 0.57053224],\n",
              "       [0.83578864, 0.16421136],\n",
              "       [0.88071853, 0.11928147],\n",
              "       [0.73487073, 0.26512927],\n",
              "       [0.80645065, 0.19354935],\n",
              "       [0.92023875, 0.07976125],\n",
              "       [0.83844634, 0.16155366],\n",
              "       [0.83007326, 0.16992674],\n",
              "       [0.70792946, 0.29207054],\n",
              "       [0.44207191, 0.55792809],\n",
              "       [0.66031472, 0.33968528],\n",
              "       [0.79287019, 0.20712981],\n",
              "       [0.33274016, 0.66725984],\n",
              "       [0.50747592, 0.49252408],\n",
              "       [0.71260097, 0.28739903],\n",
              "       [0.67602847, 0.32397153],\n",
              "       [0.13187672, 0.86812328],\n",
              "       [0.59586969, 0.40413031],\n",
              "       [0.42013079, 0.57986921],\n",
              "       [0.81570427, 0.18429573],\n",
              "       [0.7802176 , 0.2197824 ],\n",
              "       [0.72557813, 0.27442187],\n",
              "       [0.60395123, 0.39604877],\n",
              "       [0.76170808, 0.23829192],\n",
              "       [0.89341202, 0.10658798],\n",
              "       [0.37328728, 0.62671272],\n",
              "       [0.82917766, 0.17082234],\n",
              "       [0.27046841, 0.72953159],\n",
              "       [0.38427843, 0.61572157],\n",
              "       [0.77070257, 0.22929743],\n",
              "       [0.89509067, 0.10490933],\n",
              "       [0.62956209, 0.37043791],\n",
              "       [0.43536776, 0.56463224],\n",
              "       [0.57866082, 0.42133918],\n",
              "       [0.65572925, 0.34427075],\n",
              "       [0.58642915, 0.41357085],\n",
              "       [0.12643397, 0.87356603],\n",
              "       [0.71974013, 0.28025987],\n",
              "       [0.80538592, 0.19461408],\n",
              "       [0.92199937, 0.07800063],\n",
              "       [0.49919148, 0.50080852],\n",
              "       [0.8412329 , 0.1587671 ],\n",
              "       [0.87862469, 0.12137531],\n",
              "       [0.63948923, 0.36051077],\n",
              "       [0.71415492, 0.28584508],\n",
              "       [0.78080942, 0.21919058],\n",
              "       [0.80739868, 0.19260132],\n",
              "       [0.3256116 , 0.6743884 ],\n",
              "       [0.95231834, 0.04768166],\n",
              "       [0.84313704, 0.15686296],\n",
              "       [0.28169053, 0.71830947],\n",
              "       [0.84682472, 0.15317528],\n",
              "       [0.36635302, 0.63364698],\n",
              "       [0.523223  , 0.476777  ],\n",
              "       [0.83674026, 0.16325974],\n",
              "       [0.54215805, 0.45784195],\n",
              "       [0.8836837 , 0.1163163 ],\n",
              "       [0.92772348, 0.07227652],\n",
              "       [0.62301356, 0.37698644],\n",
              "       [0.79070177, 0.20929823],\n",
              "       [0.44149199, 0.55850801],\n",
              "       [0.90491196, 0.09508804],\n",
              "       [0.68427473, 0.31572527],\n",
              "       [0.84895984, 0.15104016],\n",
              "       [0.89632206, 0.10367794],\n",
              "       [0.22108154, 0.77891846],\n",
              "       [0.83739894, 0.16260106],\n",
              "       [0.42639806, 0.57360194],\n",
              "       [0.79530633, 0.20469367],\n",
              "       [0.74205273, 0.25794727],\n",
              "       [0.86720219, 0.13279781],\n",
              "       [0.57897442, 0.42102558],\n",
              "       [0.49005796, 0.50994204],\n",
              "       [0.63193454, 0.36806546],\n",
              "       [0.60574717, 0.39425283],\n",
              "       [0.32664534, 0.67335466],\n",
              "       [0.85798621, 0.14201379],\n",
              "       [0.43471508, 0.56528492],\n",
              "       [0.78554317, 0.21445683],\n",
              "       [0.76346001, 0.23653999],\n",
              "       [0.81298782, 0.18701218],\n",
              "       [0.80989263, 0.19010737],\n",
              "       [0.5423029 , 0.4576971 ],\n",
              "       [0.66646704, 0.33353296],\n",
              "       [0.47430586, 0.52569414],\n",
              "       [0.75813981, 0.24186019],\n",
              "       [0.3378022 , 0.6621978 ],\n",
              "       [0.86297923, 0.13702077],\n",
              "       [0.63536569, 0.36463431],\n",
              "       [0.64459885, 0.35540115],\n",
              "       [0.89297335, 0.10702665],\n",
              "       [0.3745833 , 0.6254167 ],\n",
              "       [0.57867411, 0.42132589],\n",
              "       [0.48463077, 0.51536923],\n",
              "       [0.87144826, 0.12855174],\n",
              "       [0.75947733, 0.24052267],\n",
              "       [0.79507992, 0.20492008],\n",
              "       [0.82327632, 0.17672368],\n",
              "       [0.79505072, 0.20494928],\n",
              "       [0.57122453, 0.42877547],\n",
              "       [0.93146594, 0.06853406],\n",
              "       [0.80196167, 0.19803833]])"
            ]
          },
          "execution_count": 197,
          "metadata": {},
          "output_type": "execute_result"
        }
      ],
      "source": [
        "# Estimates of probability\n",
        "model.predict_proba(X_test)"
      ]
    },
    {
      "cell_type": "code",
      "execution_count": 198,
      "metadata": {
        "colab": {
          "base_uri": "https://localhost:8080/"
        },
        "id": "r6EbXRDBRNqV",
        "outputId": "360c89c7-22d4-415f-80c0-2db20b006fa5"
      },
      "outputs": [
        {
          "name": "stdout",
          "output_type": "stream",
          "text": [
            "Mean Squared Error: 0.23809523809523808\n",
            "Mean Absolute Error: 0.23809523809523808\n",
            "Accuracy: 76.19047619047619 %\n",
            "\n",
            "Confusion Matrix:\n"
          ]
        },
        {
          "data": {
            "text/plain": [
              "array([[135,  18],\n",
              "       [ 37,  41]], dtype=int64)"
            ]
          },
          "execution_count": 198,
          "metadata": {},
          "output_type": "execute_result"
        }
      ],
      "source": [
        "# Accuracy and Confusion Matrix\n",
        "mae = metrics.mean_absolute_error(Y_test, Y_predicted)\n",
        "mse = metrics.mean_squared_error(Y_test, Y_predicted)\n",
        "\n",
        "print(\"Mean Squared Error:\", mse)\n",
        "print(\"Mean Absolute Error:\", mae)\n",
        "print(\"Accuracy:\", model.score(X_test, Y_test) * 100, \"%\")\n",
        "\n",
        "print(\"\\nConfusion Matrix:\")\n",
        "metrics.confusion_matrix(Y_test, Y_predicted)"
      ]
    },
    {
      "cell_type": "markdown",
      "metadata": {},
      "source": [
        "### Analysis and Predictions of the model"
      ]
    },
    {
      "cell_type": "code",
      "execution_count": 199,
      "metadata": {
        "colab": {
          "base_uri": "https://localhost:8080/",
          "height": 279
        },
        "id": "jYuVUmbiIkzC",
        "outputId": "1a50fe9f-388d-4fec-ca2b-9bfcc9e51a4f"
      },
      "outputs": [
        {
          "data": {
            "image/png": "[encoded data removed]",
            "text/plain": [
              "<Figure size 432x288 with 1 Axes>"
            ]
          },
          "metadata": {
            "needs_background": "light"
          },
          "output_type": "display_data"
        }
      ],
      "source": [
        "# Check accuracy\n",
        "Y_test, Y_predicted = list(Y_test), list(Y_predicted)\n",
        "\n",
        "plt.bar([-0.125, 0.875], [Y_test.count(0), Y_test.count(1)], width=0.25, label=\"Actual\")\n",
        "plt.bar([+0.125, 1.125], [Y_predicted.count(0), Y_predicted.count(1)], width=0.25, label=\"Predicted\")\n",
        "\n",
        "plt.xlabel(\"Outcome\")\n",
        "plt.ylabel(\"Number of cases\")\n",
        "plt.xticks([0, 1])\n",
        "plt.legend()\n",
        "plt.show()"
      ]
    }
  ],
  "metadata": {
    "colab": {
      "collapsed_sections": [],
      "name": "IIS_Assignment3_Question3.ipynb",
      "provenance": []
    },
    "kernelspec": {
      "display_name": "Python 3.10.1 64-bit",
      "language": "python",
      "name": "python3"
    },
    "language_info": {
      "codemirror_mode": {
        "name": "ipython",
        "version": 3
      },
      "file_extension": ".py",
      "mimetype": "text/x-python",
      "name": "python",
      "nbconvert_exporter": "python",
      "pygments_lexer": "ipython3",
      "version": "3.10.1"
    },
    "vscode": {
      "interpreter": {
        "hash": "26de051ba29f2982a8de78e945f0abaf191376122a1563185a90213a26c5da77"
      }
    }
  },
  "nbformat": 4,
  "nbformat_minor": 0
}
